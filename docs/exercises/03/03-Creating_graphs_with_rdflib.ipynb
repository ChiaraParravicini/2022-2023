{
 "cells": [
  {
   "attachments": {},
   "cell_type": "markdown",
   "metadata": {},
   "source": [
    "# Creating graphs with rdflib\n",
    "\n",
    "## Exercise 1\n",
    "\n",
    "Given the following class diagram and the data contained in [data.csv](../02/data.csv) and [publisher.csv](../02/publisher.csv), model such data as an `RDFlib Graph`\n",
    "\n",
    "![Classes diagram](../03/classes_diagram.jpg)\n",
    "\n",
    "Regarding properties, use the following mappings:\n",
    "\n",
    "- UML class `BibliographicResource`: `https://schema.org/BibliographicResource`;\n",
    "- UML attribute `title`: `https://schema.org/name`;\n",
    "- UML attribute `id`: `https://schema.org/identifier`;\n",
    "- UML attribute `name` of class `Publisher`: `https://schema.org/name`;\n",
    "- UML relation `hasPublisher` of class `BibliographicResource`: `https://schema.org/hasPublisher`.\n",
    "\n",
    "## Exercise 2\n",
    "\n",
    "Use `RDFlib` to populate a Blazegraph triplestore with newly created `Graph`\n",
    "\n",
    "## Exercise 3\n",
    "\n",
    "Write and run the following SPARQL queries via `rdflib`:\n",
    "\n",
    "- Find the local id, title and publisher id of the document whose identifier is \"doi:10.1037/e463622004-001\"\n",
    "- Return local id, title, publisher id and publisher name of the document with id \"doi:10.1109/cyberneticscom.2012.6381631\"\n"
   ]
  }
 ],
 "metadata": {
  "language_info": {
   "name": "python"
  },
  "orig_nbformat": 4
 },
 "nbformat": 4,
 "nbformat_minor": 2
}
