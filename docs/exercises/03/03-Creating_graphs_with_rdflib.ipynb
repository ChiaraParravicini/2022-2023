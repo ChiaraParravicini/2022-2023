{
 "cells": [
  {
   "attachments": {},
   "cell_type": "markdown",
   "metadata": {},
   "source": [
    "# Creating graphs with rdflib\n",
    "\n",
    "## Exercise 1\n",
    "\n",
    "Given the following class diagram and the data contained in [data.csv](../02/data.csv) and [publisher.csv](../02/publisher.csv), model such data as an `RDFlib Graph`\n",
    "\n",
    "![Classes diagram](../03/classes_diagram.jpg)\n",
    "\n",
    "Regarding properties, use the following mappings:\n",
    "\n",
    "- UML class `BibliographicResource`: `https://schema.org/BibliographicResource`;\n",
    "- UML attribute `title`: `https://schema.org/name`;\n",
    "- UML attribute `id`: `https://schema.org/identifier`;\n",
    "- UML attribute `name` of class `Publisher`: `https://schema.org/name`;\n",
    "- UML relation `hasPublisher` of class `BibliographicResource`: `https://schema.org/hasPublisher`.\n",
    "\n",
    "## Exercise 2\n",
    "\n",
    "Use `RDFlib` to populate a Blazegraph triplestore with newly created `Graph` \n"
   ]
  }
 ],
 "metadata": {
  "language_info": {
   "name": "python"
  },
  "orig_nbformat": 4
 },
 "nbformat": 4,
 "nbformat_minor": 2
}
