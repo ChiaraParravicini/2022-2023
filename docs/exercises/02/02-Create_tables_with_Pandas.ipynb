{
 "cells": [
  {
   "attachments": {},
   "cell_type": "markdown",
   "metadata": {},
   "source": [
    "# Create and populate SQL tables with Pandas\n",
    "\n",
    "## Exercise 1\n",
    "\n",
    "Given the following class diagram and the data contained in [data.csv](../02/data.csv) and [publisher.csv](../02/publisher.csv), use Pandas to convert the CSV in data frames according to the model provided\n",
    "\n",
    "![Classes diagram](../02/classes_diagram.jpg)\n",
    "\n",
    "Please note: the first column of each table must contain a unique identifier\n",
    "\n",
    "## Exercise 2\n",
    "\n",
    "Use Pandas to populate a SQL database with newly created tables"
   ]
  }
 ],
 "metadata": {
  "kernelspec": {
   "display_name": "Python 3",
   "language": "python",
   "name": "python3"
  },
  "language_info": {
   "codemirror_mode": {
    "name": "ipython",
    "version": 3
   },
   "file_extension": ".py",
   "mimetype": "text/x-python",
   "name": "python",
   "nbconvert_exporter": "python",
   "pygments_lexer": "ipython3",
   "version": "3.11.1"
  },
  "orig_nbformat": 4,
  "vscode": {
   "interpreter": {
    "hash": "4a227eee5edf762b7bae2171285609efea3df1ecc7f5dc43267b5f73398cedf2"
   }
  }
 },
 "nbformat": 4,
 "nbformat_minor": 2
}
